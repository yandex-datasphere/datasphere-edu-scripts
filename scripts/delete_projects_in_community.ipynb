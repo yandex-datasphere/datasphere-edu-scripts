{
 "cells": [
  {
   "cell_type": "markdown",
   "id": "1d235909-cbe4-481c-a267-08033eb5dc67",
   "metadata": {
    "tags": []
   },
   "source": [
    "## Удаление всех проектов в сообществе\n",
    "\n",
    "С помощью этого скрипта, использующего [DataSphere REST API](https://cloud.yandex.ru/docs/datasphere/api-ref/overview), вы сможете автоматизировать процесс удаления проектов в сообществе. Это особенно удобно, если вы используете одно и то же сообщество для периодического проведения мероприятий или лабораторок, и выделяете проекты под занятие. \n",
    "\n",
    "Для начала, вам нужно получить IAM-токен с правом на администрирования датасферы. Это можно сделать через CLI вот так:\n",
    "```bash\n",
    "yc iam create-token --folder-id ...\n",
    "```\n",
    "\n",
    "Также в качестве параметра зададим `CommunityId`:"
   ]
  },
  {
   "cell_type": "code",
   "execution_count": 29,
   "id": "7fd0a18c-2d5d-4968-8db1-b94401ca6ec2",
   "metadata": {
    "execution": {
     "iopub.execute_input": "2023-12-02T19:09:06.696582Z",
     "iopub.status.busy": "2023-12-02T19:09:06.696150Z",
     "iopub.status.idle": "2023-12-02T19:09:06.707446Z",
     "shell.execute_reply": "2023-12-02T19:09:06.706808Z",
     "shell.execute_reply.started": "2023-12-02T19:09:06.696545Z"
    }
   },
   "outputs": [],
   "source": [
    "iam = \"...\"\n",
    "CommunityId = \"...\""
   ]
  },
  {
   "cell_type": "markdown",
   "id": "60ffce0f-d19f-44c1-970c-c49d7087e8a7",
   "metadata": {},
   "source": [
    "Теперь получаем список проектов:"
   ]
  },
  {
   "cell_type": "code",
   "execution_count": 30,
   "id": "09ae6a4f-5f2b-4614-ac13-a7802215b15b",
   "metadata": {
    "execution": {
     "iopub.execute_input": "2023-12-02T19:09:09.445578Z",
     "iopub.status.busy": "2023-12-02T19:09:09.444918Z",
     "iopub.status.idle": "2023-12-02T19:09:09.586650Z",
     "shell.execute_reply": "2023-12-02T19:09:09.585830Z",
     "shell.execute_reply.started": "2023-12-02T19:09:09.445540Z"
    },
    "tags": []
   },
   "outputs": [
    {
     "data": {
      "text/plain": [
       "{'projects': [{'settings': {'earlyAccess': False,\n",
       "    'serviceAccountId': 'ajegm68gol04oa04moef',\n",
       "    'subnetId': 'e9b3nnvcl1qf5h3ed8jr',\n",
       "    'commitMode': 'AUTO',\n",
       "    'ide': 'JUPYTER_LAB',\n",
       "    'defaultFolderId': 'b1g6krtrd2vcbunvjpg6',\n",
       "    'vmInactivityTimeout': '10800s'},\n",
       "   'limits': {},\n",
       "   'id': 'bt13s5j23i7q05o26oc2',\n",
       "   'createdAt': '2023-08-30T06:42:09Z',\n",
       "   'name': 'Администратор',\n",
       "   'description': 'Проект для подготовки материалов для мастер-класса',\n",
       "   'createdById': 'ajeh9a4gc59nrglcg0i3',\n",
       "   'communityId': 'bt1qmt207t6nmnpk7eop'},\n",
       "  {'settings': {'earlyAccess': False,\n",
       "    'commitMode': 'AUTO',\n",
       "    'ide': 'JUPYTER_LAB',\n",
       "    'vmInactivityTimeout': '10800s'},\n",
       "   'limits': {},\n",
       "   'id': 'bt17b0puoejn0u5c50gr',\n",
       "   'createdAt': '2023-11-12T22:32:03Z',\n",
       "   'name': 'вика сошникова',\n",
       "   'createdById': 'ajeh84qlmcfjreb0jqnv',\n",
       "   'communityId': 'bt1qmt207t6nmnpk7eop'},\n",
       "  {'settings': {'earlyAccess': False,\n",
       "    'commitMode': 'AUTO',\n",
       "    'ide': 'JUPYTER_LAB',\n",
       "    'vmInactivityTimeout': '10800s'},\n",
       "   'limits': {},\n",
       "   'id': 'bt1f9jambtik5lrt4bk5',\n",
       "   'createdAt': '2023-09-06T12:07:45Z',\n",
       "   'name': 'Дмитрий Рыбалко',\n",
       "   'createdById': 'ajeh9a4gc59nrglcg0i3',\n",
       "   'communityId': 'bt1qmt207t6nmnpk7eop'},\n",
       "  {'settings': {'earlyAccess': False,\n",
       "    'commitMode': 'AUTO',\n",
       "    'ide': 'JUPYTER_LAB',\n",
       "    'vmInactivityTimeout': '3600s'},\n",
       "   'limits': {},\n",
       "   'id': 'bt1f4tcc6n72no3vtsca',\n",
       "   'createdAt': '2023-09-06T10:42:50Z',\n",
       "   'name': 'Дмитрий Сошников',\n",
       "   'createdById': 'ajeesmsbs1hoeq61gsdf',\n",
       "   'communityId': 'bt1qmt207t6nmnpk7eop'},\n",
       "  {'settings': {'earlyAccess': False,\n",
       "    'commitMode': 'AUTO',\n",
       "    'ide': 'JUPYTER_LAB',\n",
       "    'vmInactivityTimeout': '10800s'},\n",
       "   'limits': {},\n",
       "   'id': 'bt1bfrg4d5v3u9qab3a2',\n",
       "   'createdAt': '2023-11-12T18:39:58Z',\n",
       "   'name': 'Митя Сошников',\n",
       "   'createdById': 'ajeesmsbs1hoeq61gsdf',\n",
       "   'communityId': 'bt1qmt207t6nmnpk7eop'}]}"
      ]
     },
     "execution_count": 30,
     "metadata": {},
     "output_type": "execute_result"
    }
   ],
   "source": [
    "import requests\n",
    "\n",
    "res = requests.get(\n",
    "    f\"https://datasphere.api.cloud.yandex.net/datasphere/v2/projects?communityId={CommunityId}\",\n",
    "    headers={'Authorization' : f'Bearer {iam}'}\n",
    ")\n",
    "prjs = res.json()\n",
    "prjs"
   ]
  },
  {
   "cell_type": "markdown",
   "id": "bd3cf824-703c-41b7-a2ac-ed41acd675d7",
   "metadata": {},
   "source": [
    "Теперь проходимся по списку проектов и удаляем каждый из них. Вы можете встроить в этот процесс какую-то свою логику, например, в примере ниже мы не будем удалять проект с названием `Администратор`:"
   ]
  },
  {
   "cell_type": "code",
   "execution_count": 31,
   "id": "56016912-8e71-49a4-a77a-e277b2009631",
   "metadata": {
    "execution": {
     "iopub.execute_input": "2023-12-02T19:10:25.395515Z",
     "iopub.status.busy": "2023-12-02T19:10:25.394669Z",
     "iopub.status.idle": "2023-12-02T19:10:25.406663Z",
     "shell.execute_reply": "2023-12-02T19:10:25.406032Z",
     "shell.execute_reply.started": "2023-12-02T19:10:25.395475Z"
    },
    "tags": []
   },
   "outputs": [],
   "source": [
    "for x in prjs['projects']:\n",
    "    if x[\"name\"] not in ['Администратор']:\n",
    "        print(f'Deleting {x[\"name\"]}...',end='')\n",
    "        res = requests.delete(\n",
    "            f\"https://datasphere.api.cloud.yandex.net/datasphere/v2/projects/{x['id']}\",\n",
    "            headers = {'Authorization' : f'Bearer {iam}'})\n",
    "        print(f\"{res}\")"
   ]
  },
  {
   "cell_type": "markdown",
   "id": "fa244488-d965-4ede-8202-affc3bd4481a",
   "metadata": {},
   "source": [
    "Вот и всё!"
   ]
  }
 ],
 "metadata": {
  "kernelspec": {
   "display_name": "DataSphere Kernel",
   "language": "python",
   "name": "python3"
  },
  "language_info": {
   "codemirror_mode": {
    "name": "ipython",
    "version": 3
   },
   "file_extension": ".py",
   "mimetype": "text/x-python",
   "name": "python",
   "nbconvert_exporter": "python",
   "pygments_lexer": "ipython3",
   "version": "3.7.7"
  }
 },
 "nbformat": 4,
 "nbformat_minor": 5
}
