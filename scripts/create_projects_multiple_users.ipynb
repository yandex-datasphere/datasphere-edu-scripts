{
 "cells": [
  {
   "cell_type": "markdown",
   "id": "d4a88a16",
   "metadata": {},
   "source": [
    "Если у вас еще нет интерфейса командной строки Yandex Cloud, установите и инициализируйте его: https://cloud.yandex.ru/docs/cli/quickstart#install\n",
    "\n",
    "Получите IAM-токен:"
   ]
  },
  {
   "cell_type": "code",
   "execution_count": null,
   "id": "4a47e664",
   "metadata": {},
   "outputs": [],
   "source": [
    "!yc iam create-token"
   ]
  },
  {
   "cell_type": "code",
   "execution_count": null,
   "id": "44338b5a",
   "metadata": {},
   "outputs": [],
   "source": [
    "# Необходимо указать полученный IAM token\n",
    "iam_token = \"\""
   ]
  },
  {
   "cell_type": "code",
   "execution_count": null,
   "id": "c4fd8429",
   "metadata": {},
   "outputs": [],
   "source": [
    "import requests"
   ]
  },
  {
   "cell_type": "code",
   "execution_count": null,
   "id": "6a95d905",
   "metadata": {},
   "outputs": [],
   "source": [
    "# Список всех доступных организаций\n",
    "res = requests.get('https://resource-manager.api.cloud.yandex.net/resource-manager/v1/clouds', \n",
    "                    headers={\"Authorization\" : \"Bearer {}\".format(iam_token)})\n",
    "\n",
    "res.json()"
   ]
  },
  {
   "cell_type": "code",
   "execution_count": null,
   "id": "9afdace4",
   "metadata": {},
   "outputs": [],
   "source": [
    "# Задаем organizationId организации, в которой должно быть создано сообщество\n",
    "ORGANIZATION_ID = \"\""
   ]
  },
  {
   "cell_type": "code",
   "execution_count": null,
   "id": "c3d83250",
   "metadata": {},
   "outputs": [],
   "source": [
    "# Получаем список доступных биллинг аккаунтов:\n",
    "res = requests.get('https://billing.api.cloud.yandex.net/billing/v1/billingAccounts', \n",
    "                    headers={\"Authorization\" : \"Bearer {}\".format(iam_token)})\n",
    "res.json()"
   ]
  },
  {
   "cell_type": "code",
   "execution_count": null,
   "id": "6e2d4182",
   "metadata": {},
   "outputs": [],
   "source": [
    "# Создаем новое сообщество \n",
    "\n",
    "data={}\n",
    "data['name'] = \"Automatically created community 1\"\n",
    "data['description'] = \"This is a community for our first project\"\n",
    "data['organizationId'] = ORGANIZATION_ID\n",
    "data['billingAccountId'] = \"\" #id активного биллинг аккаунта\n",
    "\n",
    "res = requests.post('https://datasphere.api.cloud.yandex.net/datasphere/v2/communities', \n",
    "                    json=data,\n",
    "                    headers={\"Authorization\" : \"Bearer {}\".format(iam_token)})\n",
    "community_res = res.json()\n",
    "community_res"
   ]
  },
  {
   "cell_type": "code",
   "execution_count": null,
   "id": "10e0eb84",
   "metadata": {},
   "outputs": [],
   "source": [
    "# Cписок ID ролей в DataSphere\n",
    "res = requests.get('https://iam.api.cloud.yandex.net/iam/v1/roles', \n",
    "                    headers={\"Authorization\" : \"Bearer {}\".format(iam_token)})\n",
    "roles = res.json()['roles']\n",
    "datasphere_roles = [role for role in roles if 'datasphere' in role['id']]\n",
    "datasphere_roles"
   ]
  },
  {
   "cell_type": "code",
   "execution_count": null,
   "id": "dddae8b0",
   "metadata": {},
   "outputs": [],
   "source": [
    "# Список всех участников организации\n",
    "res = requests.get(\"https://organization-manager.api.cloud.yandex.net/organization-manager/v1/organizations/{}/users\".format(ORGANIZATION_ID), \n",
    "                    headers={\"Authorization\" : \"Bearer {}\".format(iam_token)})\n",
    "res.json()"
   ]
  },
  {
   "cell_type": "code",
   "execution_count": null,
   "id": "f75c9cdb",
   "metadata": {},
   "outputs": [],
   "source": [
    "# Создаем проекты\n",
    "\n",
    "# Указываем список id участников (поле 'sub'), для которых должны быть созданы проекты\n",
    "user_organization_ids = ['ajesma7imirhrg1m0hgo']\n",
    "\n",
    "projects = {}\n",
    "for user_id in user_organization_ids:\n",
    "    # Создаем проект для пользователя\n",
    "    data={}\n",
    "    data['name'] = \"Student {}\".format(user_id)\n",
    "    data['communityId'] = community_res['metadata']['communityId']\n",
    "    data['description'] = \"This is a workplace and create code and store resources\"\n",
    "    data['limits'] = {\n",
    "        # Задаем ограничение на максимальное количество юнитов в час для проекта\n",
    "        \"maxUnitsPerHour\": 10000,\n",
    "        # Задаем ограничение на максимальное количество юнитов на один запуск ячейки для проекта\n",
    "        \"maxUnitsPerExecution\": 5000\n",
    "    }\n",
    "    res = requests.post('https://datasphere.api.cloud.yandex.net/datasphere/v2/projects', \n",
    "                        json=data,\n",
    "                        headers={\"Authorization\" : \"Bearer {}\".format(iam_token)})\n",
    "    print(\"Project for {} is created with response: {}\".format(user_id, res))\n",
    "    \n",
    "    data={}\n",
    "    data['communityId'] = community_res['metadata']['communityId']\n",
    "    data['projectNamePattern'] = \"Student {}\".format(user_id)\n",
    "    res = requests.get('https://datasphere.api.cloud.yandex.net/datasphere/v2/projects', \n",
    "                        json=data,\n",
    "                        headers={\"Authorization\" : \"Bearer {}\".format(iam_token)})\n",
    "    projects[user_id] = res.json()['projects'][0]\n",
    "    project_id = res.json()['projects'][0]['id']\n",
    "    \n",
    "    # Добавляем себя в проект админом и пользователя с ролью developer\n",
    "    data={}\n",
    "    data['accessBindings'] = [{\n",
    "        \"roleId\": 'datasphere.community-projects.admin',\n",
    "        \"subject\": {\n",
    "            \"id\": \"\", # Необходимо указать ID администратора проекта\n",
    "            \"type\": \"userAccount\"\n",
    "        }},\n",
    "        {\n",
    "        \"roleId\": 'datasphere.community-projects.developer',\n",
    "        \"subject\": {\n",
    "            \"id\": user_id,\n",
    "            \"type\": \"userAccount\"    \n",
    "        }}\n",
    "    ]\n",
    "    res = requests.post('https://datasphere.api.cloud.yandex.net/datasphere/v2/projects/{}:setAccessBindings'.\\\n",
    "                        format(project_id), \n",
    "                        json=data,\n",
    "                        headers={\"Authorization\" : \"Bearer {}\".format(iam_token)})\n",
    "    print(\"Admin was added to project {} with response: {}\".format(project_id, res))"
   ]
  },
  {
   "cell_type": "code",
   "execution_count": null,
   "id": "6192fece",
   "metadata": {},
   "outputs": [],
   "source": [
    "projects"
   ]
  }
 ],
 "metadata": {
  "kernelspec": {
   "display_name": "Python 3 (ipykernel)",
   "language": "python",
   "name": "python3"
  },
  "language_info": {
   "codemirror_mode": {
    "name": "ipython",
    "version": 3
   },
   "file_extension": ".py",
   "mimetype": "text/x-python",
   "name": "python",
   "nbconvert_exporter": "python",
   "pygments_lexer": "ipython3",
   "version": "3.10.9"
  }
 },
 "nbformat": 4,
 "nbformat_minor": 5
}
